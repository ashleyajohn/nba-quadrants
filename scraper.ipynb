{
 "cells": [
  {
   "cell_type": "code",
   "execution_count": 2,
   "metadata": {},
   "outputs": [],
   "source": [
    "import pandas as pd\n",
    "import requests\n",
    "from bs4 import BeautifulSoup\n",
    "import re\n",
    "import time\n",
    "import csv\n",
    "import re"
   ]
  },
  {
   "cell_type": "code",
   "execution_count": 3,
   "metadata": {},
   "outputs": [],
   "source": [
    "stats = ['http://www.espn.com/nba/statistics/player/_/stat/scoring-per-game/sort/avgPoints/','http://www.espn.com/nba/statistics/player/_/stat/rebounds/sort/avgRebounds/', 'http://www.espn.com/nba/statistics/player/_/stat/field-goals/sort/fieldGoalPct/', 'http://www.espn.com/nba/statistics/player/_/stat/free-throws/sort/freeThrowPct/','http://www.espn.com/nba/statistics/player/_/stat/3-points/sort/threePointFieldGoalPct/','http://www.espn.com/nba/statistics/player/_/stat/assists/sort/avgAssists/', 'http://www.espn.com/nba/statistics/player/_/stat/steals/sort/avgSteals/', 'http://www.espn.com/nba/statistics/player/_/stat/blocks/sort/avgBlocks/', 'http://www.espn.com/nba/statistics/player/_/stat/fouls/sort/avgFouls/', 'http://www.espn.com/nba/statistics/player/_/stat/turnovers/sort/avgTurnovers/' ]\n",
    "year= 2018"
   ]
  },
  {
   "cell_type": "code",
   "execution_count": 7,
   "metadata": {},
   "outputs": [
    {
     "name": "stdout",
     "output_type": "stream",
     "text": [
      "http://www.espn.com/nba/statistics/player/_/stat/scoring-per-game/sort/avgPoints/year/2018/count/1\n",
      "http://www.espn.com/nba/statistics/player/_/stat/scoring-per-game/sort/avgPoints/year/2018/count/41\n",
      "http://www.espn.com/nba/statistics/player/_/stat/scoring-per-game/sort/avgPoints/year/2018/count/81\n",
      "http://www.espn.com/nba/statistics/player/_/stat/scoring-per-game/sort/avgPoints/year/2018/count/121\n",
      "http://www.espn.com/nba/statistics/player/_/stat/scoring-per-game/sort/avgPoints/year/2018/count/161\n",
      "http://www.espn.com/nba/statistics/player/_/stat/scoring-per-game/sort/avgPoints/year/2018/count/201\n",
      "http://www.espn.com/nba/statistics/player/_/stat/scoring-per-game/sort/avgPoints/year/2018/count/241\n",
      "http://www.espn.com/nba/statistics/player/_/stat/rebounds/sort/avgRebounds/year/2018/count/1\n",
      "http://www.espn.com/nba/statistics/player/_/stat/rebounds/sort/avgRebounds/year/2018/count/41\n",
      "http://www.espn.com/nba/statistics/player/_/stat/rebounds/sort/avgRebounds/year/2018/count/81\n",
      "http://www.espn.com/nba/statistics/player/_/stat/rebounds/sort/avgRebounds/year/2018/count/121\n",
      "http://www.espn.com/nba/statistics/player/_/stat/rebounds/sort/avgRebounds/year/2018/count/161\n",
      "http://www.espn.com/nba/statistics/player/_/stat/rebounds/sort/avgRebounds/year/2018/count/201\n",
      "http://www.espn.com/nba/statistics/player/_/stat/rebounds/sort/avgRebounds/year/2018/count/241\n",
      "http://www.espn.com/nba/statistics/player/_/stat/field-goals/sort/fieldGoalPct/year/2018/count/1\n",
      "http://www.espn.com/nba/statistics/player/_/stat/field-goals/sort/fieldGoalPct/year/2018/count/41\n",
      "http://www.espn.com/nba/statistics/player/_/stat/field-goals/sort/fieldGoalPct/year/2018/count/81\n",
      "http://www.espn.com/nba/statistics/player/_/stat/field-goals/sort/fieldGoalPct/year/2018/count/121\n",
      "http://www.espn.com/nba/statistics/player/_/stat/free-throws/sort/freeThrowPct/year/2018/count/1\n",
      "http://www.espn.com/nba/statistics/player/_/stat/free-throws/sort/freeThrowPct/year/2018/count/41\n",
      "http://www.espn.com/nba/statistics/player/_/stat/free-throws/sort/freeThrowPct/year/2018/count/81\n",
      "http://www.espn.com/nba/statistics/player/_/stat/3-points/sort/threePointFieldGoalPct/year/2018/count/1\n",
      "http://www.espn.com/nba/statistics/player/_/stat/3-points/sort/threePointFieldGoalPct/year/2018/count/41\n",
      "http://www.espn.com/nba/statistics/player/_/stat/3-points/sort/threePointFieldGoalPct/year/2018/count/81\n",
      "http://www.espn.com/nba/statistics/player/_/stat/3-points/sort/threePointFieldGoalPct/year/2018/count/121\n",
      "http://www.espn.com/nba/statistics/player/_/stat/3-points/sort/threePointFieldGoalPct/year/2018/count/161\n",
      "http://www.espn.com/nba/statistics/player/_/stat/assists/sort/avgAssists/year/2018/count/1\n",
      "http://www.espn.com/nba/statistics/player/_/stat/assists/sort/avgAssists/year/2018/count/41\n",
      "http://www.espn.com/nba/statistics/player/_/stat/assists/sort/avgAssists/year/2018/count/81\n",
      "http://www.espn.com/nba/statistics/player/_/stat/assists/sort/avgAssists/year/2018/count/121\n",
      "http://www.espn.com/nba/statistics/player/_/stat/assists/sort/avgAssists/year/2018/count/161\n",
      "http://www.espn.com/nba/statistics/player/_/stat/assists/sort/avgAssists/year/2018/count/201\n",
      "http://www.espn.com/nba/statistics/player/_/stat/assists/sort/avgAssists/year/2018/count/241\n",
      "http://www.espn.com/nba/statistics/player/_/stat/steals/sort/avgSteals/year/2018/count/1\n",
      "http://www.espn.com/nba/statistics/player/_/stat/steals/sort/avgSteals/year/2018/count/41\n",
      "http://www.espn.com/nba/statistics/player/_/stat/steals/sort/avgSteals/year/2018/count/81\n",
      "http://www.espn.com/nba/statistics/player/_/stat/steals/sort/avgSteals/year/2018/count/121\n",
      "http://www.espn.com/nba/statistics/player/_/stat/steals/sort/avgSteals/year/2018/count/161\n",
      "http://www.espn.com/nba/statistics/player/_/stat/steals/sort/avgSteals/year/2018/count/201\n",
      "http://www.espn.com/nba/statistics/player/_/stat/steals/sort/avgSteals/year/2018/count/241\n",
      "http://www.espn.com/nba/statistics/player/_/stat/blocks/sort/avgBlocks/year/2018/count/1\n",
      "http://www.espn.com/nba/statistics/player/_/stat/blocks/sort/avgBlocks/year/2018/count/41\n",
      "http://www.espn.com/nba/statistics/player/_/stat/blocks/sort/avgBlocks/year/2018/count/81\n",
      "http://www.espn.com/nba/statistics/player/_/stat/blocks/sort/avgBlocks/year/2018/count/121\n",
      "http://www.espn.com/nba/statistics/player/_/stat/blocks/sort/avgBlocks/year/2018/count/161\n",
      "http://www.espn.com/nba/statistics/player/_/stat/blocks/sort/avgBlocks/year/2018/count/201\n",
      "http://www.espn.com/nba/statistics/player/_/stat/blocks/sort/avgBlocks/year/2018/count/241\n",
      "http://www.espn.com/nba/statistics/player/_/stat/fouls/sort/avgFouls/year/2018/count/1\n",
      "http://www.espn.com/nba/statistics/player/_/stat/fouls/sort/avgFouls/year/2018/count/41\n",
      "http://www.espn.com/nba/statistics/player/_/stat/fouls/sort/avgFouls/year/2018/count/81\n",
      "http://www.espn.com/nba/statistics/player/_/stat/fouls/sort/avgFouls/year/2018/count/121\n",
      "http://www.espn.com/nba/statistics/player/_/stat/fouls/sort/avgFouls/year/2018/count/161\n",
      "http://www.espn.com/nba/statistics/player/_/stat/fouls/sort/avgFouls/year/2018/count/201\n",
      "http://www.espn.com/nba/statistics/player/_/stat/fouls/sort/avgFouls/year/2018/count/241\n",
      "http://www.espn.com/nba/statistics/player/_/stat/fouls/sort/avgFouls/year/2018/count/281\n",
      "http://www.espn.com/nba/statistics/player/_/stat/fouls/sort/avgFouls/year/2018/count/321\n",
      "http://www.espn.com/nba/statistics/player/_/stat/fouls/sort/avgFouls/year/2018/count/361\n",
      "http://www.espn.com/nba/statistics/player/_/stat/fouls/sort/avgFouls/year/2018/count/401\n",
      "http://www.espn.com/nba/statistics/player/_/stat/fouls/sort/avgFouls/year/2018/count/441\n",
      "http://www.espn.com/nba/statistics/player/_/stat/turnovers/sort/avgTurnovers/year/2018/count/1\n",
      "http://www.espn.com/nba/statistics/player/_/stat/turnovers/sort/avgTurnovers/year/2018/count/41\n",
      "http://www.espn.com/nba/statistics/player/_/stat/turnovers/sort/avgTurnovers/year/2018/count/81\n",
      "http://www.espn.com/nba/statistics/player/_/stat/turnovers/sort/avgTurnovers/year/2018/count/121\n",
      "http://www.espn.com/nba/statistics/player/_/stat/turnovers/sort/avgTurnovers/year/2018/count/161\n",
      "http://www.espn.com/nba/statistics/player/_/stat/turnovers/sort/avgTurnovers/year/2018/count/201\n",
      "http://www.espn.com/nba/statistics/player/_/stat/turnovers/sort/avgTurnovers/year/2018/count/241\n",
      "http://www.espn.com/nba/statistics/player/_/stat/turnovers/sort/avgTurnovers/year/2018/count/281\n",
      "http://www.espn.com/nba/statistics/player/_/stat/turnovers/sort/avgTurnovers/year/2018/count/321\n",
      "http://www.espn.com/nba/statistics/player/_/stat/turnovers/sort/avgTurnovers/year/2018/count/361\n"
     ]
    }
   ],
   "source": [
    "for s in stats: \n",
    "    startUrl = s+'year/'+str(year)\n",
    "    r = requests.get(startUrl)\n",
    "    soup = BeautifulSoup(r.text, \"lxml\")\n",
    "    pages = str(soup.find(\"div\", {\"class\": \"page-numbers\"}).get_text())\n",
    "    totalPages=int(pages.split(\"of \",1)[1])\n",
    "    name=re.search('stat/(.*)/sort', s).group(1)+'.csv'\n",
    "    with open(name, 'wb') as f:\n",
    "        writer = csv.writer(f)\n",
    "        for i in range(totalPages): \n",
    "            pageUrl=startUrl+'/count/'+str(i*40+1)\n",
    "            print pageUrl\n",
    "            r=requests.get(pageUrl)\n",
    "            soup = BeautifulSoup(r.text, \"lxml\")\n",
    "            for tr in soup.find_all('tr')[0:]:\n",
    "                tds = tr.find_all('td')\n",
    "                row = [t.get_text(strip=True) for t in tr(['td', 'th'])]\n",
    "                writer.writerow(row)"
   ]
  },
  {
   "cell_type": "code",
   "execution_count": null,
   "metadata": {},
   "outputs": [],
   "source": []
  }
 ],
 "metadata": {
  "kernelspec": {
   "display_name": "Python 2",
   "language": "python",
   "name": "python2"
  },
  "language_info": {
   "codemirror_mode": {
    "name": "ipython",
    "version": 2
   },
   "file_extension": ".py",
   "mimetype": "text/x-python",
   "name": "python",
   "nbconvert_exporter": "python",
   "pygments_lexer": "ipython2",
   "version": "2.7.13"
  }
 },
 "nbformat": 4,
 "nbformat_minor": 2
}
